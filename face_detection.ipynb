{
 "cells": [
  {
   "cell_type": "code",
   "execution_count": 5,
   "id": "2d4ab726",
   "metadata": {},
   "outputs": [],
   "source": [
    "import cv2\n",
    "\n",
    "capture = cv2.VideoCapture(0)\n",
    "\n",
    "# cv2.CascadeClassifier() : It takes all the features from xml file and tell it to opencv\n",
    "# haarcascade_frontalface_default.xml  : It contaims details of human face\n",
    "faceCascade = cv2.CascadeClassifier(\"haarcascade_frontalface_default.xml\")\n",
    "\n",
    "# Lots of images are captured at a particular framerate i.e FPS and it is called as Video\n",
    "\n",
    "while True:\n",
    "    ret , frame = capture.read()  # IT is reading the content that is captured by the capture = cv2.VideoCapture(0)\n",
    "    # Converting color video into gray \n",
    "    # cvtColor() ==> convertColor\n",
    "    gray = cv2.cvtColor(frame, cv2.COLOR_BGR2GRAY)\n",
    "    \n",
    "    faces = faceCascade.detectMultiScale(\n",
    "        gray,\n",
    "        scaleFactor = 1.1,\n",
    "        minNeighbors = 5,\n",
    "        minSize=(30,30),\n",
    "    )\n",
    "    \n",
    "    for (x,y,w,h) in faces:\n",
    "        #cv2.rectangle(img_name, (x,y), (x+w,y+h), (B,G,R),thickness)  ;  x+w ==> width is starting from the point where x start\n",
    "        cv2.rectangle(frame, (x,y), (x+w,y+h), (0,0,255),2)\n",
    "    \n",
    "    # imshow() : simply used to show the image with rectangle\n",
    "    cv2.imshow('FRAME',frame)\n",
    "    \n",
    "    if cv2.waitKey(1) & 0xFF == ord('e'):\n",
    "        break\n",
    "\n",
    "capture.release() # used to stop capturing the video\n",
    "cv2.destroyAllWindows() # "
   ]
  },
  {
   "cell_type": "code",
   "execution_count": null,
   "id": "db3b98d5",
   "metadata": {},
   "outputs": [],
   "source": []
  }
 ],
 "metadata": {
  "kernelspec": {
   "display_name": "Python 3 (ipykernel)",
   "language": "python",
   "name": "python3"
  },
  "language_info": {
   "codemirror_mode": {
    "name": "ipython",
    "version": 3
   },
   "file_extension": ".py",
   "mimetype": "text/x-python",
   "name": "python",
   "nbconvert_exporter": "python",
   "pygments_lexer": "ipython3",
   "version": "3.9.7"
  }
 },
 "nbformat": 4,
 "nbformat_minor": 5
}
